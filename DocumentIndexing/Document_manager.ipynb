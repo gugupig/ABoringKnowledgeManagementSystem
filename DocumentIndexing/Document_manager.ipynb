{
 "cells": [
  {
   "cell_type": "code",
   "execution_count": null,
   "metadata": {},
   "outputs": [],
   "source": [
    "from Elastic import IndexSettingsGenerator,search_engine"
   ]
  },
  {
   "cell_type": "code",
   "execution_count": null,
   "metadata": {},
   "outputs": [],
   "source": [
    "from elasticsearch import Elasticsearch, helpers"
   ]
  },
  {
   "cell_type": "code",
   "execution_count": null,
   "metadata": {},
   "outputs": [],
   "source": [
    "es = Elasticsearch(\n",
    "    ['https://localhost:9200'],\n",
    "    http_auth=('elastic', 'dR8dVIqQ5=i3pPSH00zC'),  # Replace with your credentials\n",
    "    verify_certs=True,\n",
    "    ca_certs='/root/http_ca.crt'  # Path to your CA certificate\n",
    ")\n"
   ]
  },
  {
   "cell_type": "code",
   "execution_count": null,
   "metadata": {},
   "outputs": [],
   "source": [
    "doc = {\n",
    "    \"author\": \"John Doe\",\n",
    "    \"text\": \"Elasticsearch: cool for searching.\",\n",
    "    \"timestamp\": \"2021-04-23T18:25:43.511Z\"\n",
    "}\n",
    "response = es.index(index=\"my-index\", id=1, document=doc)"
   ]
  },
  {
   "cell_type": "code",
   "execution_count": null,
   "metadata": {},
   "outputs": [],
   "source": [
    "from elasticsearch import Elasticsearch\n",
    "\n",
    "\n",
    "# Example of getting a document by ID\n",
    "response = es.get(index=\"your_index\", id=\"1\")\n",
    "print(response['_source'])\n"
   ]
  },
  {
   "cell_type": "markdown",
   "metadata": {},
   "source": [
    "━\n",
    "✅ Elasticsearch security features have been automatically configured!\n",
    "✅ Authentication is enabled and cluster connections are encrypted.\n",
    "\n",
    "ℹ️  Password for the elastic user (reset with `bin/elasticsearch-reset-password -u elastic`):\n",
    "  dR8dVIqQ5=i3pPSH00zC\n",
    "\n",
    "ℹ️  HTTP CA certificate SHA-256 fingerprint:\n",
    "  120906ad484e3458ab343768efdedc95f52178eb2acef23e68f8ac3f2b84887e\n",
    "\n",
    "ℹ️  Configure Kibana to use this cluster:\n",
    "• Run Kibana and click the configuration link in the terminal when Kibana starts.\n",
    "• Copy the following enrollment token and paste it into Kibana in your browser (valid for the next 30 minutes):\n",
    "  eyJ2ZXIiOiI4LjExLjEiLCJhZHIiOlsiMTcyLjE4LjAuMjo5MjAwIl0sImZnciI6IjEyMDkwNmFkNDg0ZTM0NThhYjM0Mzc2OGVmZGVkYzk1ZjUyMTc4ZWIyYWNlZjIzZTY4ZjhhYzNmMmI4NDg4N2UiLCJrZXkiOiJBeEsyRTR3QlF3cmlSaHMyRkZWNDpuTnp1YnhlR1E0Q3BtUDlIRmdHd3ZnIn0=\n",
    "\n",
    "ℹ️ Configure other nodes to join this cluster:\n",
    "• Copy the following enrollment token and start new Elasticsearch nodes with `bin/elasticsearch --enrollment-token <token>` (valid for the next 30 minutes):\n",
    "  eyJ2ZXIiOiI4LjExLjEiLCJhZHIiOlsiMTcyLjE4LjAuMjo5MjAwIl0sImZnciI6IjEyMDkwNmFkNDg0ZTM0NThhYjM0Mzc2OGVmZGVkYzk1ZjUyMTc4ZWIyYWNlZjIzZTY4ZjhhYzNmMmI4NDg4N2UiLCJrZXkiOiJCUksyRTR3QlF3cmlSaHMyRkZWXzpFeldzYTg1OVR6eWtaM3JXdF9hWWVBIn0=\n",
    "\n",
    "  If you're running in Docker, copy the enrollment token and run:\n",
    "  `docker run -e \"ENROLLMENT_TOKEN=<token>\" docker.elastic.co/elasticsearch/elasticsearch:8.11.1`\n"
   ]
  },
  {
   "cell_type": "code",
   "execution_count": 34,
   "metadata": {},
   "outputs": [
    {
     "ename": "ModuleNotFoundError",
     "evalue": "No module named 'DocumentProcessing'",
     "output_type": "error",
     "traceback": [
      "\u001b[0;31m---------------------------------------------------------------------------\u001b[0m",
      "\u001b[0;31mModuleNotFoundError\u001b[0m                       Traceback (most recent call last)",
      "\u001b[1;32m/root/gpt_projects/ABoringKnowledgeManagementSystem/DocumentManagement/Document_manager.ipynb Cell 7\u001b[0m line \u001b[0;36m1\n\u001b[0;32m----> <a href='vscode-notebook-cell://ssh-remote%2B194.163.147.140/root/gpt_projects/ABoringKnowledgeManagementSystem/DocumentManagement/Document_manager.ipynb#X11sdnNjb2RlLXJlbW90ZQ%3D%3D?line=0'>1</a>\u001b[0m \u001b[39mfrom\u001b[39;00m \u001b[39mDocumentProcessing\u001b[39;00m\u001b[39m.\u001b[39;00m\u001b[39mpdf_processing\u001b[39;00m \u001b[39mimport\u001b[39;00m pdf_processor\n\u001b[1;32m      <a href='vscode-notebook-cell://ssh-remote%2B194.163.147.140/root/gpt_projects/ABoringKnowledgeManagementSystem/DocumentManagement/Document_manager.ipynb#X11sdnNjb2RlLXJlbW90ZQ%3D%3D?line=1'>2</a>\u001b[0m \u001b[39mfrom\u001b[39;00m \u001b[39mDocumentProcessing\u001b[39;00m\u001b[39m.\u001b[39;00m\u001b[39mpdf_processing\u001b[39;00m \u001b[39mimport\u001b[39;00m paper_processor\n",
      "\u001b[0;31mModuleNotFoundError\u001b[0m: No module named 'DocumentProcessing'"
     ]
    }
   ],
   "source": [
    "from DocumentProcessing.pdf_processing import pdf_processor\n",
    "from DocumentProcessing.pdf_processing import paper_processor"
   ]
  }
 ],
 "metadata": {
  "kernelspec": {
   "display_name": "spider",
   "language": "python",
   "name": "python3"
  },
  "language_info": {
   "codemirror_mode": {
    "name": "ipython",
    "version": 3
   },
   "file_extension": ".py",
   "mimetype": "text/x-python",
   "name": "python",
   "nbconvert_exporter": "python",
   "pygments_lexer": "ipython3",
   "version": "3.10.6"
  }
 },
 "nbformat": 4,
 "nbformat_minor": 2
}
